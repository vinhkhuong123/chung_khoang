{
 "cells": [
  {
   "cell_type": "code",
   "execution_count": 1,
   "id": "6fb41d99",
   "metadata": {},
   "outputs": [],
   "source": [
    "#khai báo các thư viện cần thiết cho việc cào dữ liệu\n",
    "import numpy as np\n",
    "from selenium import webdriver\n",
    "from time import sleep\n",
    "import random\n",
    "from selenium.common.exceptions import NoSuchElementException, ElementNotInteractableException\n",
    "from selenium.webdriver.common.by import By\n",
    "import pandas as pd\n",
    "from bs4 import BeautifulSoup\n",
    "import requests as rq"
   ]
  },
  {
   "cell_type": "code",
   "execution_count": 14,
   "id": "d9a381df",
   "metadata": {},
   "outputs": [],
   "source": [
    "class CrawlData:\n",
    "    def __init__(self, url):\n",
    "        self.url = url\n",
    "        self.driver = webdriver.Chrome()\n",
    "        self.driver.get(self.url)\n",
    "    def crawl_title(self):\n",
    "        elems = self.driver.find_elements(By.CSS_SELECTOR,\".tlitem-flex [href]\")\n",
    "        title=[]\n",
    "        for i in elems:\n",
    "            title.append(i.get_attribute('title'))    \n",
    "        return title\n",
    "    def crawl_link(self):\n",
    "        elems = self.driver.find_elements(By.CSS_SELECTOR,\".tlitem-flex [href]\")\n",
    "        links = []\n",
    "        for i in elems:\n",
    "            links.append(i.get_attribute('href'))\n",
    "        return links\n",
    "    def crawl_time(self):\n",
    "        get_time = self.driver.find_elements(By.CSS_SELECTOR,\".knswli-right [title]\")\n",
    "        times = []\n",
    "        for i in get_time:\n",
    "            times.append(i.get_attribute('title'))\n",
    "        return times\n",
    "    def crawl_content(self):\n",
    "        get_nd = self.driver.find_elements(By.CSS_SELECTOR,\".knswli-right [data-trimline]\")\n",
    "        nd_tomtat = []\n",
    "        for i in get_nd:\n",
    "            nd_tomtat.append(i.text)\n",
    "        return nd_tomtat\n",
    "    def get_main(self):\n",
    "        links = self.crawl_link()\n",
    "        main = []\n",
    "        for link in links:\n",
    "            content = rq.get(link).content\n",
    "            soup = BeautifulSoup(content, \"html.parser\")\n",
    "            nd_link = []\n",
    "            c=soup.find(class_='detail-content afcbc-body')\n",
    "            p=c.find_all('p')\n",
    "            for i in range(len(p)):\n",
    "                nd_link.append(p[i].text)\n",
    "            main.append(nd_link)\n",
    "        return main\n",
    "    def xem_them(self):\n",
    "        xem_them = self.driver.find_element(\"xpath\", \"/html/body/div[2]/div[2]/div/div[1]/div[2]/div[1]/div[3]/div\")\n",
    "        xem_them.click()\n",
    "        sleep(random.randint(5,8)) \n"
   ]
  },
  {
   "cell_type": "code",
   "execution_count": 8,
   "id": "737db6ea",
   "metadata": {},
   "outputs": [],
   "source": [
    "url = \"https://cafef.vn/thi-truong-chung-khoan.chn\"\n",
    "chung_khoang = CrawlData(url)"
   ]
  },
  {
   "cell_type": "code",
   "execution_count": 9,
   "id": "53ba8e20",
   "metadata": {},
   "outputs": [],
   "source": [
    "#lấy khoảng hơn 100 bài báo qua xem thêm\n",
    "chung_khoang.xem_them()"
   ]
  },
  {
   "cell_type": "code",
   "execution_count": 10,
   "id": "698fe268",
   "metadata": {},
   "outputs": [
    {
     "data": {
      "text/plain": [
       "102"
      ]
     },
     "execution_count": 10,
     "metadata": {},
     "output_type": "execute_result"
    }
   ],
   "source": [
    "len(chung_khoang.crawl_link())"
   ]
  },
  {
   "cell_type": "code",
   "execution_count": 15,
   "id": "27ccc921",
   "metadata": {},
   "outputs": [],
   "source": [
    "content = rq.get(url).content\n",
    "with open(\"data.html\", \"wb\") as file:\n",
    "    file.write(content)"
   ]
  },
  {
   "cell_type": "code",
   "execution_count": 16,
   "id": "290d9184",
   "metadata": {},
   "outputs": [
    {
     "data": {
      "text/html": [
       "<div>\n",
       "<style scoped>\n",
       "    .dataframe tbody tr th:only-of-type {\n",
       "        vertical-align: middle;\n",
       "    }\n",
       "\n",
       "    .dataframe tbody tr th {\n",
       "        vertical-align: top;\n",
       "    }\n",
       "\n",
       "    .dataframe thead th {\n",
       "        text-align: right;\n",
       "    }\n",
       "</style>\n",
       "<table border=\"1\" class=\"dataframe\">\n",
       "  <thead>\n",
       "    <tr style=\"text-align: right;\">\n",
       "      <th></th>\n",
       "      <th>time</th>\n",
       "      <th>title</th>\n",
       "      <th>link</th>\n",
       "      <th>content</th>\n",
       "      <th>main</th>\n",
       "    </tr>\n",
       "  </thead>\n",
       "  <tbody>\n",
       "    <tr>\n",
       "      <th>97</th>\n",
       "      <td>2023-06-24T16:43:00</td>\n",
       "      <td>3 công ty thuộc nhóm APEC lên tiếng về vụ Thao...</td>\n",
       "      <td>https://cafef.vn/3-cong-ty-thuoc-nhom-apec-len...</td>\n",
       "      <td>Ngày 24-6, cả 3 công ty thuộc hệ sinh thái APE...</td>\n",
       "      <td>[Theo đó, Công ty CP Đầu tư Châu Á – Thái Bình...</td>\n",
       "    </tr>\n",
       "    <tr>\n",
       "      <th>98</th>\n",
       "      <td>2023-06-24T15:54:00</td>\n",
       "      <td>Bị cáo vụ Thuduc House kêu gọi chủ mưu đầu thú...</td>\n",
       "      <td>https://cafef.vn/bi-cao-vu-thuduc-house-keu-go...</td>\n",
       "      <td>Nói lời sau cùng, bị cáo Nguyễn Thùy Quyên (cự...</td>\n",
       "      <td>[  Sáng nay (24/6), sau hơn 15 ngày xét xử, ph...</td>\n",
       "    </tr>\n",
       "    <tr>\n",
       "      <th>99</th>\n",
       "      <td>2023-06-24T15:02:00</td>\n",
       "      <td>Chứng khoán APEC (APS) lên tiếng về vụ án thao...</td>\n",
       "      <td>https://cafef.vn/chung-khoan-apec-aps-len-tien...</td>\n",
       "      <td>APS khẳng định không phải chủ thể có liên quan...</td>\n",
       "      <td>[  Cập nhật mới nhất, Công ty Cổ phần Chứng kh...</td>\n",
       "    </tr>\n",
       "    <tr>\n",
       "      <th>100</th>\n",
       "      <td>2023-06-24T14:41:00</td>\n",
       "      <td>Vụ Apec: Kỳ quặc màn đeo khăn tím tuyên bố ‘gồ...</td>\n",
       "      <td>https://cafef.vn/vu-apec-ky-quac-man-deo-khan-...</td>\n",
       "      <td>Cơ quan điều tra vừa quyết định khởi tố vụ án ...</td>\n",
       "      <td>[    Từ gồng lãi, đến mô hình cây thông   ,   ...</td>\n",
       "    </tr>\n",
       "    <tr>\n",
       "      <th>101</th>\n",
       "      <td>2023-06-24T11:39:00</td>\n",
       "      <td>Việt Nam “dậm chân tại chỗ” trong quá trình nâ...</td>\n",
       "      <td>https://cafef.vn/viet-nam-dam-chan-tai-cho-tro...</td>\n",
       "      <td>Việt Nam hiện đang là thị trường lớn nhất tron...</td>\n",
       "      <td>[  Ngày 23/06, MSCI đã công bố kết quả phân lo...</td>\n",
       "    </tr>\n",
       "  </tbody>\n",
       "</table>\n",
       "</div>"
      ],
      "text/plain": [
       "                    time                                              title  \\\n",
       "97   2023-06-24T16:43:00  3 công ty thuộc nhóm APEC lên tiếng về vụ Thao...   \n",
       "98   2023-06-24T15:54:00  Bị cáo vụ Thuduc House kêu gọi chủ mưu đầu thú...   \n",
       "99   2023-06-24T15:02:00  Chứng khoán APEC (APS) lên tiếng về vụ án thao...   \n",
       "100  2023-06-24T14:41:00  Vụ Apec: Kỳ quặc màn đeo khăn tím tuyên bố ‘gồ...   \n",
       "101  2023-06-24T11:39:00  Việt Nam “dậm chân tại chỗ” trong quá trình nâ...   \n",
       "\n",
       "                                                  link  \\\n",
       "97   https://cafef.vn/3-cong-ty-thuoc-nhom-apec-len...   \n",
       "98   https://cafef.vn/bi-cao-vu-thuduc-house-keu-go...   \n",
       "99   https://cafef.vn/chung-khoan-apec-aps-len-tien...   \n",
       "100  https://cafef.vn/vu-apec-ky-quac-man-deo-khan-...   \n",
       "101  https://cafef.vn/viet-nam-dam-chan-tai-cho-tro...   \n",
       "\n",
       "                                               content  \\\n",
       "97   Ngày 24-6, cả 3 công ty thuộc hệ sinh thái APE...   \n",
       "98   Nói lời sau cùng, bị cáo Nguyễn Thùy Quyên (cự...   \n",
       "99   APS khẳng định không phải chủ thể có liên quan...   \n",
       "100  Cơ quan điều tra vừa quyết định khởi tố vụ án ...   \n",
       "101  Việt Nam hiện đang là thị trường lớn nhất tron...   \n",
       "\n",
       "                                                  main  \n",
       "97   [Theo đó, Công ty CP Đầu tư Châu Á – Thái Bình...  \n",
       "98   [  Sáng nay (24/6), sau hơn 15 ngày xét xử, ph...  \n",
       "99   [  Cập nhật mới nhất, Công ty Cổ phần Chứng kh...  \n",
       "100  [    Từ gồng lãi, đến mô hình cây thông   ,   ...  \n",
       "101  [  Ngày 23/06, MSCI đã công bố kết quả phân lo...  "
      ]
     },
     "execution_count": 16,
     "metadata": {},
     "output_type": "execute_result"
    }
   ],
   "source": [
    "#chung_khoang.crawl_title()\n",
    "#chung_khoang.crawl_link()\n",
    "#chung_khoang.crawl_time()\n",
    "#chung_khoang.crawl_content()\n",
    "#chung_khoang.get_main()\n",
    "# tạo 1 dataFrame từ các mảng trên\n",
    "data = {'time':chung_khoang.crawl_time(), 'title':chung_khoang.crawl_title(), 'link':chung_khoang.crawl_link(), 'content':chung_khoang.crawl_content(), 'main':chung_khoang.get_main()}\n",
    "df = pd.DataFrame(data)\n",
    "df.tail()"
   ]
  },
  {
   "cell_type": "code",
   "execution_count": 17,
   "id": "03ea6d69",
   "metadata": {},
   "outputs": [],
   "source": [
    "# in ra 1 file csv\n",
    "df.to_csv('file_chung_khoang.csv', index=False)"
   ]
  }
 ],
 "metadata": {
  "kernelspec": {
   "display_name": "Python 3 (ipykernel)",
   "language": "python",
   "name": "python3"
  },
  "language_info": {
   "codemirror_mode": {
    "name": "ipython",
    "version": 3
   },
   "file_extension": ".py",
   "mimetype": "text/x-python",
   "name": "python",
   "nbconvert_exporter": "python",
   "pygments_lexer": "ipython3",
   "version": "3.11.2"
  }
 },
 "nbformat": 4,
 "nbformat_minor": 5
}
